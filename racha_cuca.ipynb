{
 "cells": [
  {
   "cell_type": "code",
   "execution_count": null,
   "id": "dbd6104b",
   "metadata": {},
   "outputs": [],
   "source": [
    "# https://rachacuca.com.br/logica/problemas/acampamento-de-ferias/\n",
    "\n",
    "# Barraca: amarela, azul, branca, verde, vermelha\n",
    "# Nome: Anderson, Breno, Gabriel, Marco, Rui\n",
    "# Idade: 9 anos, 10 anos, 11 anos, 12 anos, 13 anos\n",
    "# Sanduíche: atum, frango, presunto, queijo, salame\n",
    "# Equipe: Alfafas, Ciclanos, Dragão, Rocket, Tupis\n",
    "# Esporte: basquete, corrida, futebol, natação, tênis\n",
    "\n",
    "#1 - A barraca Vermelha está em algum lugar entre o garoto mais velho e quem gosta de Basquete, nessa ordem.\n",
    "#2 - O menino que gosta de sanduíche de Salame está ao lado de quem está na barraca Verde.\n",
    "#3 - O garoto que joga Tênis está exatamente à esquerda de quem está na barraca Verde.\n",
    "#4 - Breno está em algum lugar à direita da barraca Vermelha.\n",
    "#5 - Na primeira barraca está o garoto que gosta de Natação.\n",
    "#6 - O menino de 9 anos está em algum lugar à direita da barraca Verde.\n",
    "#7 - A barraca Vermelha está em algum lugar à esquerda de quem gosta de Basquete.\n",
    "#8 - O garoto da barraca Verde gosta de sanduíche de Atum.\n",
    "#9 - Gabriel está ao lado do menino que gosta de sanduíche de Frango.\n",
    "#10 - O menino de 10 anos está em algum lugar à direita da barraca Vermelha.\n",
    "#11 - O garoto da equipe Rocket está exatamente à esquerda de Rui.\n",
    "#12 - Quem gosta de Corrida está em algum lugar à direita da barraca Verde.\n",
    "#13 - O garoto da equipe Tupis está em uma das pontas.\n",
    "#14 - A barraca Amarela está em algum lugar à esquerda de Marco.\n",
    "#15 - O menino da equipe Dragão está ao lado de quem gosta de jogar Tênis.\n",
    "#16 - O menino da equipe Dragão está em algum lugar entre a barraca Branca e o garoto que gosta de sanduíche de Salame, nessa ordem.\n",
    "#17 - Quem gosta de sanduíche de Frango está em algum lugar à direita da barraca Verde.\n",
    "#18 - A barraca Amarela está em algum lugar à esquerda do garoto de 12 anos.\n",
    "#19 - O menino que gosta de Futebol está ao lado do menino da equipe Ciclanos.\n",
    "#20 - A barraca Vermelha está em algum lugar entre quem gosta de sanduíche de Presunto e quem tem 12 anos.\n",
    "#21 - O garoto da equipe Rocket está exatamente à esquerda de quem gosta de Futebol."
   ]
  }
 ],
 "metadata": {
  "language_info": {
   "name": "python"
  }
 },
 "nbformat": 4,
 "nbformat_minor": 5
}
