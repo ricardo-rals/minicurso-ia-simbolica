{
 "cells": [
  {
   "cell_type": "code",
   "execution_count": null,
   "id": "82433601",
   "metadata": {},
   "outputs": [],
   "source": [
    "# DADOS DO PROBLEMA\n",
    "estados = [\n",
    "    \"AC\", \"AL\", \"AP\", \"AM\", \"BA\", \"CE\", \"DF\", \"ES\", \"GO\", \"MA\", \"MT\", \"MS\",\n",
    "    \"MG\", \"PA\", \"PB\", \"PR\", \"PE\", \"PI\", \"RJ\", \"RN\", \"RS\", \"RO\", \"RR\", \"SC\",\n",
    "    \"SP\", \"SE\", \"TO\"\n",
    "]\n",
    "\n",
    "cores_dominios = [\"vermelho\", \"verde\", \"azul\", \"amarelo\"]\n",
    "\n",
    "fronteiras = [\n",
    "    (\"AC\", \"AM\"), (\"AC\", \"RO\"), (\"AL\", \"PE\"), (\"AL\", \"SE\"), (\"AL\", \"BA\"),\n",
    "    (\"AP\", \"PA\"), (\"AM\", \"PA\"), (\"AM\", \"RR\"), (\"AM\", \"RO\"), (\"AM\", \"MT\"),\n",
    "    (\"BA\", \"GO\"), (\"BA\", \"MG\"), (\"BA\", \"ES\"), (\"BA\", \"PE\"), (\"BA\", \"PI\"),\n",
    "    (\"BA\", \"TO\"), (\"BA\", \"SE\"), (\"CE\", \"PI\"), (\"CE\", \"PE\"), (\"CE\", \"PB\"),\n",
    "    (\"CE\", \"RN\"), (\"DF\", \"GO\"), (\"ES\", \"BA\"), (\"ES\", \"MG\"), (\"ES\", \"RJ\"),\n",
    "    (\"GO\", \"DF\"), (\"GO\", \"TO\"), (\"GO\", \"BA\"), (\"GO\", \"MG\"), (\"GO\", \"MS\"),\n",
    "    (\"GO\", \"MT\"), (\"MA\", \"PA\"), (\"MA\", \"TO\"), (\"MA\", \"PI\"), (\"MT\", \"RO\"),\n",
    "    (\"MT\", \"AM\"), (\"MT\", \"PA\"), (\"MT\", \"TO\"), (\"MT\", \"GO\"), (\"MT\", \"MS\"),\n",
    "    (\"MS\", \"GO\"), (\"MS\", \"MG\"), (\"MS\", \"SP\"), (\"MS\", \"PR\"), (\"MS\", \"MT\"),\n",
    "    (\"MG\", \"BA\"), (\"MG\", \"ES\"), (\"MG\", \"RJ\"), (\"MG\", \"SP\"), (\"MG\", \"MS\"),\n",
    "    (\"MG\", \"GO\"), (\"PA\", \"AP\"), (\"PA\", \"MA\"), (\"PA\", \"TO\"), (\"PA\", \"MT\"),\n",
    "    (\"PA\", \"RR\"), (\"PA\", \"AM\"), (\"PB\", \"RN\"), (\"PB\", \"CE\"), (\"PB\", \"PE\"),\n",
    "    (\"PR\", \"SP\"), (\"PR\", \"MS\"), (\"PR\", \"SC\"), (\"PE\", \"PI\"), (\"PE\", \"CE\"),\n",
    "    (\"PE\", \"PB\"), (\"PE\", \"AL\"), (\"PE\", \"BA\"), (\"PI\", \"MA\"), (\"PI\", \"TO\"),\n",
    "    (\"PI\", \"BA\"), (\"PI\", \"PE\"), (\"PI\", \"CE\"), (\"RJ\", \"ES\"), (\"RJ\", \"MG\"),\n",
    "    (\"RJ\", \"SP\"), (\"RN\", \"CE\"), (\"RN\", \"PB\"), (\"RS\", \"SC\"), (\"RO\", \"AC\"),\n",
    "    (\"RO\", \"AM\"), (\"RO\", \"MT\"), (\"RR\", \"AM\"), (\"RR\", \"PA\"), (\"SC\", \"PR\"),\n",
    "    (\"SC\", \"RS\"), (\"SP\", \"MG\"), (\"SP\", \"RJ\"), (\"SP\", \"PR\"), (\"SP\", \"MS\"),\n",
    "    (\"SE\", \"AL\"), (\"SE\", \"BA\"), (\"TO\", \"PA\"), (\"TO\", \"MA\"), (\"TO\", \"PI\"),\n",
    "    (\"TO\", \"BA\"), (\"TO\", \"GO\"), (\"TO\", \"MT\")\n",
    "]"
   ]
  },
  {
   "cell_type": "code",
   "execution_count": null,
   "id": "93b83469",
   "metadata": {},
   "outputs": [],
   "source": [
    "from google.colab import files\n",
    "uploaded = files.upload()"
   ]
  }
 ],
 "metadata": {
  "language_info": {
   "name": "python"
  }
 },
 "nbformat": 4,
 "nbformat_minor": 5
}
